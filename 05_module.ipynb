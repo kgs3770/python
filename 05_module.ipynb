{
 "cells": [
  {
   "cell_type": "markdown",
   "id": "0198b37a-6ef2-4623-8029-eea95b020ade",
   "metadata": {},
   "source": [
    "# 모듈"
   ]
  },
  {
   "cell_type": "code",
   "execution_count": null,
   "id": "0360a11a-e48b-4315-939a-27ac87592da5",
   "metadata": {},
   "outputs": [],
   "source": [
    "import fact"
   ]
  },
  {
   "cell_type": "code",
   "execution_count": null,
   "id": "4d629d2d-9776-4bfa-bb08-ee31e95f209f",
   "metadata": {},
   "outputs": [],
   "source": [
    "print(fact)"
   ]
  },
  {
   "cell_type": "code",
   "execution_count": null,
   "id": "9721fd6e-eca2-4ff1-9c79-063bdd3692cf",
   "metadata": {},
   "outputs": [],
   "source": [
    "fact.factorial(5)"
   ]
  },
  {
   "cell_type": "code",
   "execution_count": null,
   "id": "6883d0fd-ef90-46ec-ae6e-19532267d52f",
   "metadata": {},
   "outputs": [],
   "source": [
    "fact.my_max(2, 3)"
   ]
  },
  {
   "cell_type": "markdown",
   "id": "1f58592d-3d3f-4a0e-bb61-de036531de21",
   "metadata": {},
   "source": [
    "# 패키지\n",
    "\n",
    "```\n",
    "myPackage/\n",
    "    __init__.py\n",
    "    math/\n",
    "        __init__.py\n",
    "```\n",
    "- 패키지 안에 `__init__.py` 파일이 존재해야 패키지로 인식"
   ]
  },
  {
   "cell_type": "code",
   "execution_count": null,
   "id": "fd3c0fe3-0935-4443-bb00-f992f05da3ca",
   "metadata": {},
   "outputs": [],
   "source": [
    "import myPackage"
   ]
  },
  {
   "cell_type": "code",
   "execution_count": null,
   "id": "cddd375a-7af5-478c-9d16-b5c2860c76a5",
   "metadata": {},
   "outputs": [],
   "source": [
    "print(myPackage)"
   ]
  },
  {
   "cell_type": "code",
   "execution_count": null,
   "id": "e8003244-512d-40d5-8c4b-32b881201d9e",
   "metadata": {},
   "outputs": [],
   "source": [
    "myPackage.math.fomula.my_max(2, 3)"
   ]
  },
  {
   "cell_type": "code",
   "execution_count": null,
   "id": "1310209e-906f-4c6e-be9c-b056430a5045",
   "metadata": {},
   "outputs": [],
   "source": [
    "from myPackage.math.fomula import my_max"
   ]
  },
  {
   "cell_type": "code",
   "execution_count": null,
   "id": "29524165-b3ce-443c-8ec5-3c0a04ff490c",
   "metadata": {},
   "outputs": [],
   "source": [
    "my_max(2, 3)"
   ]
  },
  {
   "cell_type": "code",
   "execution_count": null,
   "id": "e2601e11-fbe5-46ba-83b0-547e0a55225d",
   "metadata": {},
   "outputs": [],
   "source": [
    "from myPackage.math import fomula\n",
    "fomula.my_max(2, 3)"
   ]
  },
  {
   "cell_type": "code",
   "execution_count": null,
   "id": "9ae39cae-f8bb-4d89-9431-55381dd7a9d1",
   "metadata": {},
   "outputs": [],
   "source": [
    "from myPackage.math.fomula import *\n",
    "print(pi)"
   ]
  },
  {
   "cell_type": "code",
   "execution_count": null,
   "id": "80d76758-ffda-4649-a5be-817e990682e0",
   "metadata": {},
   "outputs": [],
   "source": [
    "fomula = 1234\n",
    "from myPackage.math import fomula as f\n",
    "print(fomula)\n",
    "print(f)"
   ]
  },
  {
   "cell_type": "markdown",
   "id": "8a4e7a5d-0c3d-419e-88dc-c2e0e4baf8ac",
   "metadata": {},
   "source": [
    "## 파이썬 내장 패키지\n",
    "### math"
   ]
  },
  {
   "cell_type": "code",
   "execution_count": null,
   "id": "390a78de-53e3-4368-929b-1fe8285ea36d",
   "metadata": {},
   "outputs": [],
   "source": [
    "import math"
   ]
  },
  {
   "cell_type": "code",
   "execution_count": null,
   "id": "aee1a06a-6c48-463f-99af-87391f71acaf",
   "metadata": {},
   "outputs": [],
   "source": [
    "math.pi"
   ]
  },
  {
   "cell_type": "code",
   "execution_count": null,
   "id": "1118bc65-54a5-4212-8921-1126f5837f13",
   "metadata": {},
   "outputs": [],
   "source": [
    "math.e"
   ]
  },
  {
   "cell_type": "code",
   "execution_count": null,
   "id": "8c0117ad-ee41-4452-8dea-a8b706acc008",
   "metadata": {},
   "outputs": [],
   "source": [
    "math.ceil(math.e)"
   ]
  },
  {
   "cell_type": "code",
   "execution_count": null,
   "id": "4bef49ef-53e3-464d-9376-b4b38d985691",
   "metadata": {},
   "outputs": [],
   "source": [
    "math.floor(math.e)"
   ]
  },
  {
   "cell_type": "code",
   "execution_count": null,
   "id": "24225212-f80a-4084-891b-4f7db525d710",
   "metadata": {},
   "outputs": [],
   "source": [
    "math.sqrt(9)"
   ]
  },
  {
   "cell_type": "code",
   "execution_count": null,
   "id": "f380d06e-e04a-4df4-b1b2-36d1d439a71a",
   "metadata": {},
   "outputs": [],
   "source": [
    "math.factorial(10)"
   ]
  },
  {
   "cell_type": "code",
   "execution_count": null,
   "id": "f84b70af-efee-43c8-b7d9-e19157209c2b",
   "metadata": {},
   "outputs": [],
   "source": [
    "from math import sqrt, factorial"
   ]
  },
  {
   "cell_type": "code",
   "execution_count": null,
   "id": "13fd0f2e-3267-4618-baf1-5bab46e6627f",
   "metadata": {},
   "outputs": [],
   "source": [
    "sqrt(16)"
   ]
  },
  {
   "cell_type": "code",
   "execution_count": null,
   "id": "8666aed8-95f7-415f-9e30-67248d12a5ec",
   "metadata": {},
   "outputs": [],
   "source": [
    "factorial(5)"
   ]
  },
  {
   "cell_type": "markdown",
   "id": "5671413a-3c9a-4970-b9e3-8648384ce67c",
   "metadata": {},
   "source": [
    "### random"
   ]
  },
  {
   "cell_type": "code",
   "execution_count": null,
   "id": "cccf8331-e387-4430-9147-247a94d1a1d3",
   "metadata": {},
   "outputs": [],
   "source": [
    "import random"
   ]
  },
  {
   "cell_type": "code",
   "execution_count": null,
   "id": "798f306e-df65-4f31-af37-6e58134ff6db",
   "metadata": {},
   "outputs": [],
   "source": [
    "random.random()"
   ]
  },
  {
   "cell_type": "code",
   "execution_count": null,
   "id": "1e963bc2-b56a-4650-9e2f-15dbd48f10e4",
   "metadata": {},
   "outputs": [],
   "source": [
    "random.randint(1, 10)"
   ]
  },
  {
   "cell_type": "code",
   "execution_count": null,
   "id": "d08597ee-3b29-441a-b6fc-37a3c5c64104",
   "metadata": {},
   "outputs": [],
   "source": [
    "random.seed(234)\n",
    "random.random()"
   ]
  },
  {
   "cell_type": "code",
   "execution_count": null,
   "id": "8350ac4f-9ede-436b-b6b0-cc6d649088f1",
   "metadata": {},
   "outputs": [],
   "source": [
    "numbers = [1, 2, 3, 4, 5]"
   ]
  },
  {
   "cell_type": "code",
   "execution_count": null,
   "id": "f72f6a87-cd07-477f-ada9-8c95c365d590",
   "metadata": {},
   "outputs": [],
   "source": [
    "random.shuffle(numbers)\n",
    "print(numbers)"
   ]
  },
  {
   "cell_type": "code",
   "execution_count": null,
   "id": "ff7a2feb-1734-465a-b563-1a15795b67df",
   "metadata": {},
   "outputs": [],
   "source": [
    "print(random.choice(numbers))\n",
    "print(random.choice(numbers))"
   ]
  },
  {
   "cell_type": "code",
   "execution_count": null,
   "id": "52dba7a3-88db-4946-a786-73d282eeedc2",
   "metadata": {},
   "outputs": [],
   "source": [
    "random.sample(numbers, 2)"
   ]
  },
  {
   "cell_type": "markdown",
   "id": "525b56a2-5bce-4ca4-a74b-8a34f3982c5e",
   "metadata": {},
   "source": [
    "### datetime"
   ]
  },
  {
   "cell_type": "code",
   "execution_count": null,
   "id": "ee0d2aa4-35c4-4db9-80a4-18843d35014f",
   "metadata": {},
   "outputs": [],
   "source": [
    "from datetime import datetime"
   ]
  },
  {
   "cell_type": "code",
   "execution_count": null,
   "id": "f4d7199d-3712-4dc3-a520-d31d39ae5804",
   "metadata": {},
   "outputs": [],
   "source": [
    "datetime.now()"
   ]
  },
  {
   "cell_type": "code",
   "execution_count": null,
   "id": "632762d5-89fb-4dd5-8a8f-caeac052e18d",
   "metadata": {},
   "outputs": [],
   "source": [
    "datetime.today()"
   ]
  },
  {
   "cell_type": "code",
   "execution_count": null,
   "id": "71645f24-3a4a-4627-9a32-3f6454ef51ea",
   "metadata": {},
   "outputs": [],
   "source": [
    "datetime.utcnow()\n",
    "# datetime.now(datetime.UTC)"
   ]
  },
  {
   "cell_type": "code",
   "execution_count": null,
   "id": "2dff2c5a-6984-4f16-8ce7-da12dc648b85",
   "metadata": {},
   "outputs": [],
   "source": [
    "now = datetime.now()"
   ]
  },
  {
   "cell_type": "code",
   "execution_count": null,
   "id": "faedada1-672b-4419-998c-5544d23869c3",
   "metadata": {},
   "outputs": [],
   "source": [
    "now.year"
   ]
  },
  {
   "cell_type": "code",
   "execution_count": null,
   "id": "4c84e281-ed6d-43a0-a58a-f49d715113c8",
   "metadata": {},
   "outputs": [],
   "source": [
    "now.month"
   ]
  },
  {
   "cell_type": "code",
   "execution_count": null,
   "id": "8df4bd85-ec5a-4dc5-8d52-05cda6383389",
   "metadata": {},
   "outputs": [],
   "source": [
    "now.day"
   ]
  },
  {
   "cell_type": "code",
   "execution_count": null,
   "id": "182cbe1c-501d-4976-9d2d-95ba2e34ea9b",
   "metadata": {},
   "outputs": [],
   "source": [
    "now.weekday()"
   ]
  },
  {
   "cell_type": "code",
   "execution_count": null,
   "id": "ff322ba8-d114-454c-95aa-f16f10cefb9d",
   "metadata": {},
   "outputs": [],
   "source": [
    "print(now)"
   ]
  },
  {
   "cell_type": "code",
   "execution_count": null,
   "id": "8fb10d1d-cfcb-485b-97af-cb00052e9cb0",
   "metadata": {},
   "outputs": [],
   "source": [
    "now.strftime('%y년 %b월 %d일')"
   ]
  },
  {
   "cell_type": "code",
   "execution_count": null,
   "id": "df7aa1f1-8247-44d0-b4d2-e8f230040642",
   "metadata": {},
   "outputs": [],
   "source": [
    "x_mas = datetime(2025, 12, 25)\n",
    "print(x_mas)"
   ]
  },
  {
   "cell_type": "code",
   "execution_count": null,
   "id": "e193ee37-06c5-41b5-9edf-d0ac7c963abd",
   "metadata": {},
   "outputs": [],
   "source": [
    "from datetime import timedelta"
   ]
  },
  {
   "cell_type": "code",
   "execution_count": null,
   "id": "1b963d69-e514-49d6-98b6-6e9f6954bb76",
   "metadata": {},
   "outputs": [],
   "source": [
    "future = timedelta(days=-100)\n",
    "print(x_mas + future)"
   ]
  },
  {
   "cell_type": "code",
   "execution_count": null,
   "id": "03c9f70f-06c8-4c92-9cc7-e452db90f758",
   "metadata": {},
   "outputs": [],
   "source": [
    "x_mas - now"
   ]
  },
  {
   "cell_type": "markdown",
   "id": "f7583a1f-7583-4008-8e45-c74fbed900d3",
   "metadata": {},
   "source": [
    "## 외부 라이브러리"
   ]
  },
  {
   "cell_type": "markdown",
   "id": "ba8bf9a0-ecb6-4fda-b7d5-2019c22ddece",
   "metadata": {},
   "source": [
    "### requests"
   ]
  },
  {
   "cell_type": "code",
   "execution_count": 2,
   "id": "1903cf15-fb27-4779-adf8-16917ff5a9ac",
   "metadata": {},
   "outputs": [],
   "source": [
    "import requests"
   ]
  },
  {
   "cell_type": "code",
   "execution_count": null,
   "id": "8dfb4874-3840-4fb6-98d1-0ea6599700e4",
   "metadata": {},
   "outputs": [],
   "source": [
    "r = requests.get('https://api.github.com/events')"
   ]
  },
  {
   "cell_type": "code",
   "execution_count": null,
   "id": "74463c07-e858-48a6-9c23-d30ed4b66f96",
   "metadata": {},
   "outputs": [],
   "source": [
    "print(r.text)"
   ]
  },
  {
   "cell_type": "code",
   "execution_count": null,
   "id": "ac9b47a0-dce6-4ffd-bbe4-c7909a3efb19",
   "metadata": {},
   "outputs": [],
   "source": [
    "r = requests.get('https://naver.com')\n",
    "print(r.text)"
   ]
  },
  {
   "cell_type": "code",
   "execution_count": null,
   "id": "1496f1f0-8dd3-4e68-9bb9-90072bc85238",
   "metadata": {},
   "outputs": [],
   "source": [
    "payload = {'key1': 'value1', 'key2': 'value2'}\n",
    "r = requests.get('https://httpbin.org/get', params=payload)\n",
    "print(r.url)\n",
    "print(r.text)\n"
   ]
  },
  {
   "cell_type": "code",
   "execution_count": null,
   "id": "8b05cc9b-cd94-4230-8c6e-22d6e38ed736",
   "metadata": {},
   "outputs": [],
   "source": [
    "payload = {'query': '파이썬'}\n",
    "r = requests.get('https://search.naver.com/search.naver', params=payload)\n",
    "print(r.url)"
   ]
  },
  {
   "cell_type": "code",
   "execution_count": null,
   "id": "69903816-80cb-4d36-b4e4-648f7fbcdce9",
   "metadata": {},
   "outputs": [],
   "source": [
    "r = requests.get('https://api.github.com/events')\n",
    "print(type(r.json()))\n",
    "print(r.json())"
   ]
  },
  {
   "cell_type": "code",
   "execution_count": 4,
   "id": "b2231d97-0898-45a7-bc6e-3887f08f0449",
   "metadata": {},
   "outputs": [
    {
     "name": "stdout",
     "output_type": "stream",
     "text": [
      "2025-02-01\n",
      "5\n",
      "7\n",
      "12\n",
      "20\n",
      "25\n",
      "26\n"
     ]
    }
   ],
   "source": [
    "lotto_url = 'https://www.dhlottery.co.kr/common.do'\n",
    "\n",
    "payload = {\n",
    "    'method': 'getLottoNumber',\n",
    "    'drwNo': 1157,\n",
    "}\n",
    "\n",
    "r = requests.get(lotto_url, params=payload)\n",
    "# print(r.url)\n",
    "# print(r.text)\n",
    "lotto_dict = r.json()\n",
    "\n",
    "print(lotto_dict['drwNoDate'])\n",
    "# print(lotto_dict['drwtNo1'])\n",
    "# print(lotto_dict['drwtNo2'])\n",
    "# print(lotto_dict['drwtNo3'])\n",
    "# print(lotto_dict['drwtNo4'])\n",
    "# print(lotto_dict['drwtNo5'])\n",
    "# print(lotto_dict['drwtNo6'])\n",
    "\n",
    "for i in range(1, 7):\n",
    "    print(lotto_dict[f'drwtNo{i}'])"
   ]
  },
  {
   "cell_type": "markdown",
   "id": "c7548d94-d339-4888-924b-2802e69d8e57",
   "metadata": {},
   "source": [
    "### 페어프로그래밍 (로또)\n",
    "1. 로또 5000원 구매하기\n",
    "    - 랜덤으로 6개 숫자로 이루어진 5세트의 로또 번호를 생성합니다.\n",
    "2. 최신회차 당첨번호 수집하기\n",
    "3. 등수 확인하기\n",
    "    - 최신회차의 당첨번호와 생성된 번호를 비교하여 몇등인지 출력합니다.\n",
    "    - 1, 3, 4, 5, 꽝 우선 작성 후 `+ 2등`\n",
    "4. 추가기능 구현\n",
    "    - 참고링크(https://parkminkyu.github.io/newLotto/lottoWin.html)"
   ]
  },
  {
   "cell_type": "code",
   "execution_count": 52,
   "id": "f53e0107-893e-4512-a1cc-7c59d0051d76",
   "metadata": {},
   "outputs": [
    {
     "name": "stdout",
     "output_type": "stream",
     "text": [
      "{1: [14, 28, 37, 38, 39, 42], 2: [1, 3, 20, 30, 35, 45], 3: [2, 11, 14, 21, 22, 23], 4: [4, 15, 17, 18, 20, 31], 5: [3, 14, 33, 37, 40, 41]}\n"
     ]
    }
   ],
   "source": [
    "# 1. 로또번호 생성\n",
    "import random\n",
    "\n",
    "my_numbers = {}\n",
    "\n",
    "for i in range(1, 6):\n",
    "    random_numbers = random.sample(range(1, 46), 6)\n",
    "    random_numbers.sort()\n",
    "    my_numbers[i] = random_numbers\n",
    "print(my_numbers)"
   ]
  },
  {
   "cell_type": "code",
   "execution_count": 53,
   "id": "23a167f4-6bc9-4cbe-bc57-0144056b7792",
   "metadata": {},
   "outputs": [
    {
     "name": "stdout",
     "output_type": "stream",
     "text": [
      "{'totSellamnt': 124802304000, 'returnValue': 'success', 'drwNoDate': '2025-02-15', 'firstWinamnt': 1284854250, 'drwtNo6': 39, 'drwtNo4': 28, 'firstPrzwnerCo': 23, 'drwtNo5': 38, 'bnusNo': 7, 'firstAccumamnt': 29551647750, 'drwNo': 1159, 'drwtNo2': 9, 'drwtNo3': 27, 'drwtNo1': 3}\n",
      "[39, 28, 38, 9, 27, 3]\n"
     ]
    }
   ],
   "source": [
    "# 2. 최신회차 당첨번호 수집\n",
    "import requests\n",
    "\n",
    "LOTTO_URL = 'https://www.dhlottery.co.kr/common.do'\n",
    "payload = {\n",
    "    'method': 'getLottoNumber',\n",
    "    'drwNo': 1159,\n",
    "}\n",
    "\n",
    "res = requests.get(LOTTO_URL, params=payload)\n",
    "lotto_dict = res.json()\n",
    "\n",
    "print(lotto_dict)\n",
    "\n",
    "lucky_numbers = []\n",
    "bonus_number = lotto_dict['bnusNo']\n",
    "\n",
    "for k, v in lotto_dict.items():\n",
    "    if 'drwtNo' in k:\n",
    "        lucky_numbers.append(v)\n",
    "\n",
    "print(lucky_numbers)"
   ]
  },
  {
   "cell_type": "code",
   "execution_count": 58,
   "id": "271df88e-ded5-4a73-8599-2bacae8ab0a4",
   "metadata": {},
   "outputs": [
    {
     "name": "stdout",
     "output_type": "stream",
     "text": [
      "4등\n"
     ]
    }
   ],
   "source": [
    "# 3. 등수 확인하기\n",
    "for my_number in my_numbers.values():\n",
    "    my_number_set = set(my_number)\n",
    "    lucky_numbers_set = set(lucky_numbers)\n",
    "\n",
    "    match_count = len(my_number_set & lucky_numbers_set)\n",
    "      \n",
    "    if match_count == 6:\n",
    "        print('1등!!!')\n",
    "    elif match_count == 5 and bonus_number in my_number:\n",
    "        print('2등!!!')\n",
    "    elif match_count == 5:\n",
    "        print('3등!')\n",
    "    elif match_count == 4:\n",
    "        print('4등')\n",
    "    elif match_count == 3:\n",
    "        print('5')\n",
    "    else:\n",
    "        print('ㅜㅜ')\n",
    "            "
   ]
  },
  {
   "cell_type": "code",
   "execution_count": null,
   "id": "74aa2480-ecd6-4b6d-a157-7cd373f8eb59",
   "metadata": {},
   "outputs": [],
   "source": []
  }
 ],
 "metadata": {
  "kernelspec": {
   "display_name": "Python 3 (ipykernel)",
   "language": "python",
   "name": "python3"
  },
  "language_info": {
   "codemirror_mode": {
    "name": "ipython",
    "version": 3
   },
   "file_extension": ".py",
   "mimetype": "text/x-python",
   "name": "python",
   "nbconvert_exporter": "python",
   "pygments_lexer": "ipython3",
   "version": "3.13.2"
  }
 },
 "nbformat": 4,
 "nbformat_minor": 5
}
