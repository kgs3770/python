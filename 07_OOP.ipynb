{
 "cells": [
  {
   "cell_type": "markdown",
   "id": "864fc70e-8993-4aed-aa60-d31fb1bea82f",
   "metadata": {},
   "source": [
    "# 객체지향 프로그래밍 (OOP)\n",
    "\n",
    "- 클래스(class) : 같은 종류의 집단에 속하는 `속성`과 `행동`을 `정의`한 것\n",
    "- 속성(attribute) : 클래스/인스턴스가 가지고 있는 데이터/값\n",
    "- 행동(method) : 클래스/인스턴스가 가지고 있는 함수/기능\n",
    "- 인스턴스(instance) : 클래스를 실제로 메모리상에 할당한 것"
   ]
  },
  {
   "cell_type": "code",
   "execution_count": 6,
   "id": "4fc37506-f4bd-4812-b3dc-5dd91a02357c",
   "metadata": {},
   "outputs": [],
   "source": [
    "number = 1 + 2j"
   ]
  },
  {
   "cell_type": "code",
   "execution_count": 7,
   "id": "b240a2c4-59ba-4315-8451-df32f294f447",
   "metadata": {},
   "outputs": [
    {
     "name": "stdout",
     "output_type": "stream",
     "text": [
      "<class 'complex'>\n"
     ]
    }
   ],
   "source": [
    "print(type(number))"
   ]
  },
  {
   "cell_type": "code",
   "execution_count": 8,
   "id": "47f58aef-6f55-4218-97ef-6384e0214f32",
   "metadata": {},
   "outputs": [
    {
     "name": "stdout",
     "output_type": "stream",
     "text": [
      "1.0\n",
      "2.0\n"
     ]
    }
   ],
   "source": [
    "print(number.real)\n",
    "print(number.imag)"
   ]
  },
  {
   "cell_type": "code",
   "execution_count": 9,
   "id": "b5f16261-a088-46ba-adde-891493399a3f",
   "metadata": {},
   "outputs": [],
   "source": [
    "numbers = [1, 2, 3]"
   ]
  },
  {
   "cell_type": "code",
   "execution_count": 10,
   "id": "7da7e9af-97e7-4bea-9bc2-8bc42f22df3e",
   "metadata": {},
   "outputs": [
    {
     "name": "stdout",
     "output_type": "stream",
     "text": [
      "<class 'list'>\n"
     ]
    }
   ],
   "source": [
    "print(type(numbers))"
   ]
  },
  {
   "cell_type": "code",
   "execution_count": 12,
   "id": "08c5667f-6fa9-4992-ab05-e4f428c87424",
   "metadata": {},
   "outputs": [
    {
     "name": "stdout",
     "output_type": "stream",
     "text": [
      "[3, 2, 1]\n"
     ]
    }
   ],
   "source": [
    "numbers.reverse()\n",
    "print(numbers)"
   ]
  },
  {
   "cell_type": "code",
   "execution_count": 13,
   "id": "fc577765-3c74-4c66-850d-193ba9202e6c",
   "metadata": {},
   "outputs": [
    {
     "name": "stdout",
     "output_type": "stream",
     "text": [
      "010-1234-1234가 010-1111-1111한테 전화 거는중\n"
     ]
    }
   ],
   "source": [
    "number = '010-1234-1234'\n",
    "power = True\n",
    "phone_book = {\n",
    "    'kim': '010-1111-1111',\n",
    "    'park': '010-2222-2222',\n",
    "}\n",
    "\n",
    "def call(from_num, to_num):\n",
    "    print(f'{from_num}가 {to_num}한테 전화 거는중')\n",
    "\n",
    "call(number, phone_book['kim'])"
   ]
  },
  {
   "cell_type": "code",
   "execution_count": 14,
   "id": "88b4fce0-ac02-4fd6-8b13-9abf50051c0b",
   "metadata": {},
   "outputs": [
    {
     "ename": "NameError",
     "evalue": "name 'number2' is not defined",
     "output_type": "error",
     "traceback": [
      "\u001b[1;31m---------------------------------------------------------------------------\u001b[0m",
      "\u001b[1;31mNameError\u001b[0m                                 Traceback (most recent call last)",
      "Cell \u001b[1;32mIn[14], line 11\u001b[0m\n\u001b[0;32m      8\u001b[0m \u001b[38;5;28;01mdef\u001b[39;00m\u001b[38;5;250m \u001b[39m\u001b[38;5;21mcall\u001b[39m(from_num, to_num):\n\u001b[0;32m      9\u001b[0m     \u001b[38;5;28mprint\u001b[39m(\u001b[38;5;124mf\u001b[39m\u001b[38;5;124m'\u001b[39m\u001b[38;5;132;01m{\u001b[39;00mfrom_num\u001b[38;5;132;01m}\u001b[39;00m\u001b[38;5;124m가 \u001b[39m\u001b[38;5;132;01m{\u001b[39;00mto_num\u001b[38;5;132;01m}\u001b[39;00m\u001b[38;5;124m한테 전화 거는중\u001b[39m\u001b[38;5;124m'\u001b[39m)\n\u001b[1;32m---> 11\u001b[0m call(\u001b[43mnumber2\u001b[49m, phone_book2[\u001b[38;5;124m'\u001b[39m\u001b[38;5;124mkim\u001b[39m\u001b[38;5;124m'\u001b[39m])\n",
      "\u001b[1;31mNameError\u001b[0m: name 'number2' is not defined"
     ]
    }
   ],
   "source": [
    "number_2 = '010-4321-4321'\n",
    "power_2 = True\n",
    "phone_book_2 = {\n",
    "    'kim': '010-1111-1111',\n",
    "    'park': '010-2222-2222',\n",
    "}\n",
    "\n",
    "def call(from_num, to_num):\n",
    "    print(f'{from_num}가 {to_num}한테 전화 거는중')\n",
    "\n",
    "call(number2, phone_book2['kim'])"
   ]
  },
  {
   "cell_type": "markdown",
   "id": "07196b46-5603-4815-9b8e-cdafaa2b7e4e",
   "metadata": {},
   "source": [
    "## class\n",
    "\n",
    "- 클래스 선언/정의\n",
    "```python\n",
    "class ClassName():\n",
    "    attribute1 = value1\n",
    "    attribute2 = value2\n",
    "    ...\n",
    "\n",
    "    def method_name1(self):\n",
    "        code\n",
    "\n",
    "    def method_name2(self):\n",
    "        code\n",
    "    ...\n",
    "```\n",
    "\n",
    "\n",
    "- 인스턴스화 (클래스 실행)\n",
    "```python\n",
    "c = ClassName()\n",
    "```"
   ]
  },
  {
   "cell_type": "code",
   "execution_count": 16,
   "id": "1ad28c68-ac23-4775-a4cf-08f12d48100b",
   "metadata": {},
   "outputs": [],
   "source": [
    "# 선언\n",
    "class MyClass():\n",
    "    name = 'kim'\n",
    "\n",
    "    def hello(self):\n",
    "        return 'hihihihihi'"
   ]
  },
  {
   "cell_type": "code",
   "execution_count": 18,
   "id": "8cb89883-850c-4a07-8ee8-48ef694af6c0",
   "metadata": {},
   "outputs": [],
   "source": [
    "# 인스턴스화\n",
    "m = MyClass()"
   ]
  },
  {
   "cell_type": "code",
   "execution_count": 20,
   "id": "ce3b3fa9-f7a4-48b6-948e-9065d3c49163",
   "metadata": {},
   "outputs": [
    {
     "name": "stdout",
     "output_type": "stream",
     "text": [
      "<class '__main__.MyClass'>\n"
     ]
    }
   ],
   "source": [
    "print(type(m))"
   ]
  },
  {
   "cell_type": "code",
   "execution_count": 22,
   "id": "31464921-29c7-4278-ab9b-e41148cd026d",
   "metadata": {},
   "outputs": [
    {
     "name": "stdout",
     "output_type": "stream",
     "text": [
      "kim\n",
      "hihihihihi\n"
     ]
    }
   ],
   "source": [
    "print(m.name)\n",
    "print(m.hello())"
   ]
  },
  {
   "cell_type": "code",
   "execution_count": 23,
   "id": "fe6a24ef-929f-4ee3-9c1b-56071270af4c",
   "metadata": {},
   "outputs": [
    {
     "name": "stdout",
     "output_type": "stream",
     "text": [
      "kim\n",
      "hihihihihi\n"
     ]
    }
   ],
   "source": [
    "m2 = MyClass()\n",
    "print(m2.name)\n",
    "print(m2.hello())"
   ]
  },
  {
   "cell_type": "code",
   "execution_count": 24,
   "id": "bbf68b28-755b-484f-8f98-678c595452da",
   "metadata": {},
   "outputs": [
    {
     "name": "stdout",
     "output_type": "stream",
     "text": [
      "kim\n",
      "park\n"
     ]
    }
   ],
   "source": [
    "m2.name = 'park'\n",
    "\n",
    "print(m.name)\n",
    "print(m2.name)"
   ]
  }
 ],
 "metadata": {
  "kernelspec": {
   "display_name": "Python 3 (ipykernel)",
   "language": "python",
   "name": "python3"
  },
  "language_info": {
   "codemirror_mode": {
    "name": "ipython",
    "version": 3
   },
   "file_extension": ".py",
   "mimetype": "text/x-python",
   "name": "python",
   "nbconvert_exporter": "python",
   "pygments_lexer": "ipython3",
   "version": "3.13.2"
  }
 },
 "nbformat": 4,
 "nbformat_minor": 5
}
